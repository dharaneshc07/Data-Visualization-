{
  "nbformat": 4,
  "nbformat_minor": 0,
  "metadata": {
    "colab": {
      "provenance": []
    },
    "kernelspec": {
      "name": "python3",
      "display_name": "Python 3"
    },
    "language_info": {
      "name": "python"
    }
  },
  "cells": [
    {
      "cell_type": "code",
      "source": [
        "import dash\n",
        "from dash import dcc, html, Input, Output\n",
        "import plotly.express as px\n",
        "import pandas as pd\n",
        "\n",
        "# data loading\n",
        "file_path = '/content/Quality_of_Life.csv'\n",
        "data = pd.read_csv(file_path)\n",
        "\n",
        "# Cleaning\n",
        "data['Property Price to Income Value'] = pd.to_numeric(data['Property Price to Income Value'], errors='coerce')\n",
        "data['Quality of Life Value'] = data['Quality of Life Value'].str.extract(r'([0-9.]+)').astype(float)\n",
        "data.replace({'None': pd.NA, \"'None'\": pd.NA}, inplace=True)\n",
        "\n",
        "# Dash app\n",
        "app = dash.Dash(__name__)\n",
        "\n",
        "# Layout\n",
        "app.layout = html.Div([\n",
        "    html.Div([\n",
        "        html.H2(\"Quality of Life for Each Country\", style={\n",
        "            'textAlign': 'center',\n",
        "            'color': '#FFFFFF',\n",
        "            'marginBottom': '20px'\n",
        "        }),\n",
        "        dcc.Dropdown(\n",
        "            id='num-dropdown',\n",
        "            options=[{'label': col, 'value': col} for col in data.select_dtypes('float').columns],\n",
        "            value='Cost of Living Value',\n",
        "            placeholder=\"Select a numerical column...\",\n",
        "            style={\n",
        "                'width': '80%',\n",
        "                'margin': '0 auto',\n",
        "                'padding': '10px',\n",
        "                'borderRadius': '8px',\n",
        "                'border': '1px solid #2c3e50',\n",
        "                'backgroundColor': '#ecf0f1',\n",
        "                'color': '#2c3e50',\n",
        "                'fontSize': '16px'\n",
        "            }\n",
        "        )\n",
        "    ], style={\n",
        "        'display': 'flex',\n",
        "        'flexDirection': 'column',\n",
        "        'alignItems': 'center',\n",
        "        'justifyContent': 'center',\n",
        "        'padding': '20px'\n",
        "    }),\n",
        "\n",
        "    html.Div([\n",
        "        dcc.Graph(id='num-graph', style={'width': '90%', 'margin': '10px auto'}),\n",
        "        dcc.Graph(id='cat-graph', style={'width': '90%', 'margin': '10px auto'})\n",
        "    ], style={\n",
        "        'display': 'flex',\n",
        "        'flexDirection': 'column',\n",
        "        'alignItems': 'center'\n",
        "    })\n",
        "])\n",
        "\n",
        "# Callbacks\n",
        "@app.callback(\n",
        "    [Output('num-graph', 'figure'), Output('cat-graph', 'figure')],\n",
        "    [Input('num-dropdown', 'value')]\n",
        ")\n",
        "def update_graphs(num_column):\n",
        "    # plot numerical data\n",
        "    fig1 = px.line(data, x='country', y=num_column, title=f'Country vs {num_column}')\n",
        "\n",
        "    # related categorical column\n",
        "    cat_column = num_column.replace('Value', 'Category')\n",
        "    if cat_column in data.columns:\n",
        "        fig2 = px.bar(data, x='country', y=num_column, color=cat_column, title=f'Country vs {num_column} by {cat_column}')\n",
        "    else:\n",
        "        fig2 = px.bar(title=\"No related categorical data available\")\n",
        "\n",
        "    return fig1, fig2\n",
        "\n",
        "# Run app\n",
        "if __name__ == '__main__':\n",
        "    app.run(debug=True)"
      ],
      "metadata": {
        "colab": {
          "base_uri": "https://localhost:8080/",
          "height": 671
        },
        "id": "k4wF52H4V1t8",
        "outputId": "806971ae-ecd8-4482-ec51-fa01f663bbe0"
      },
      "execution_count": 96,
      "outputs": [
        {
          "output_type": "display_data",
          "data": {
            "text/plain": [
              "<IPython.core.display.Javascript object>"
            ],
            "application/javascript": [
              "(async (port, path, width, height, cache, element) => {\n",
              "    if (!google.colab.kernel.accessAllowed && !cache) {\n",
              "      return;\n",
              "    }\n",
              "    element.appendChild(document.createTextNode(''));\n",
              "    const url = await google.colab.kernel.proxyPort(port, {cache});\n",
              "    const iframe = document.createElement('iframe');\n",
              "    iframe.src = new URL(path, url).toString();\n",
              "    iframe.height = height;\n",
              "    iframe.width = width;\n",
              "    iframe.style.border = 0;\n",
              "    iframe.allow = [\n",
              "        'accelerometer',\n",
              "        'autoplay',\n",
              "        'camera',\n",
              "        'clipboard-read',\n",
              "        'clipboard-write',\n",
              "        'gyroscope',\n",
              "        'magnetometer',\n",
              "        'microphone',\n",
              "        'serial',\n",
              "        'usb',\n",
              "        'xr-spatial-tracking',\n",
              "    ].join('; ');\n",
              "    element.appendChild(iframe);\n",
              "  })(8050, \"/\", \"100%\", 650, false, window.element)"
            ]
          },
          "metadata": {}
        }
      ]
    }
  ]
}